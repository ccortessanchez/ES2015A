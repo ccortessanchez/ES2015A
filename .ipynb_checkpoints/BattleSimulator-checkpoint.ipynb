{
 "cells": [
  {
   "cell_type": "markdown",
   "metadata": {},
   "source": [
    "# C# ported code"
   ]
  },
  {
   "cell_type": "code",
   "execution_count": 1,
   "metadata": {
    "collapsed": false
   },
   "outputs": [],
   "source": [
    "import random\n",
    "import time\n",
    "\n",
    "meeleHit =[\n",
    "              #Oponent 1  2  3  4  5  6  7  8  9  10\n",
    "                      [4, 4, 5, 5, 5, 5, 5, 5, 5, 5 ], #1\n",
    "                      [3, 4, 4, 4, 5, 5, 5, 5, 5, 5 ], #2\n",
    "                      [3, 3, 4, 4, 4, 4, 5, 5, 5, 5 ], #3\n",
    "                      [3, 3, 3, 4, 4, 4, 4, 4, 5, 5 ], #4\n",
    "                      [3, 3, 3, 3, 4, 4, 4, 4, 4, 4 ], #5\n",
    "                      [3, 3, 3, 3, 3, 4, 4, 4, 4, 4 ], #6\n",
    "                      [3, 3, 3, 3, 3, 3, 4, 4, 4, 4 ], #7\n",
    "                      [3, 3, 3, 3, 3, 3, 3, 4, 4, 4 ], #8\n",
    "                      [3, 3, 3, 3, 3, 3, 3, 3, 4, 4 ], #9\n",
    "                      [3, 3, 3, 3, 3, 3, 3, 3, 3, 4 ] #10\n",
    "]\n",
    "wounds = [\n",
    "              #Oponent 1  2  3  4  5  6  7  8  9  10\n",
    "                     [ 4, 5, 6, 6, 99, 99, 99, 99, 99, 99 ], #1\n",
    "                     [ 3, 4, 5, 6, 6, 99, 99, 99, 99, 99 ],  #2\n",
    "                     [ 2, 3, 4, 5, 6, 6, 6, 99, 99, 99],     #3\n",
    "                     [ 2, 2, 3, 4, 5, 6, 6, 99, 99, 99 ],    #4\n",
    "                     [ 2, 2, 2, 3, 4, 5, 6, 6, 99, 99 ],     #5\n",
    "                     [ 2, 2, 2, 2, 3, 4, 5, 6, 6, 99 ],      #6\n",
    "                     [ 2, 2, 2, 2, 2, 3, 4, 5, 6, 6 ],       #7\n",
    "                     [ 2, 2, 2, 2, 2, 2, 3, 4, 5, 6 ],       #8\n",
    "                     [ 2, 2, 2, 2, 2, 2, 2, 3, 4, 5 ],       #9\n",
    "                     [ 2, 2, 2, 2, 2, 2, 2, 2, 3, 4 ]        #10\n",
    "]\n",
    "\n",
    "class Dice(object):\n",
    "    def once(self):\n",
    "        return random.randint(1, 6)\n",
    "\n",
    "    def rollSpecial(self):\n",
    "        value = self.once()\n",
    "\n",
    "        if value == 6:\n",
    "            new_value = self.once()\n",
    "            if (new_value == 6): return 9\n",
    "            elif (new_value == 5): return 8\n",
    "            elif (new_value == 4): return 7\n",
    "            \n",
    "        return value\n",
    "\n",
    "ALIVE = 0\n",
    "DEAD = 1\n",
    "    \n",
    "class Unit(object):\n",
    "    def __init__(self, attributes, name, verbose=True, timeMultiplier=1000.0):\n",
    "        self.dice = Dice()\n",
    "        self.name = name\n",
    "        self.attributes = attributes.copy()\n",
    "        self.wounds = 0\n",
    "        self.status = ALIVE\n",
    "        self.lastAttack = time.time()\n",
    "        self.verbose = verbose\n",
    "        \n",
    "        self.attributes['attackRate'] *= timeMultiplier\n",
    "        \n",
    "    def willAttackLand(self, frm, isRanged = False):\n",
    "        dice = self.dice.rollSpecial()\n",
    "   \n",
    "        if isRanged:\n",
    "            projectileAbility = frm.attributes['projectileAbility'];\n",
    "                   # + from.accumulatedModifier<UnitAbility>().projectileAbilityModifier +\n",
    "                   # from.computeRangedModifiers();\n",
    "   \n",
    "            return dice > 1 and (projectileAbility + dice >= 7)\n",
    "\n",
    "        attackerAbility = min(10, frm.attributes['weaponAbility'])\n",
    "               # + from.accumulatedModifier<UnitAbility>().weaponAbilityModifier);\n",
    "   \n",
    "        defenderAbility = min(10, self.attributes['weaponAbility'])\n",
    "               # accumulatedModifier<UnitAbility>().weaponAbilityModifier);\n",
    "        \n",
    "        return meeleHit[attackerAbility - 1][defenderAbility - 1] <= dice\n",
    "    \n",
    "    def willAttackCauseWounds(self, frm):\n",
    "        attackerStrength = min(10, frm.attributes['strength'])\n",
    "        # + from.accumulatedModifier<UnitAbility>().weaponAbilityModifier);\n",
    "   \n",
    "        defenderResistance = min(10, self.attributes['resistance'])\n",
    "        # + accumulatedModifier<UnitAbility>().resistanceModifier);\n",
    "   \n",
    "        dice = self.dice.once()\n",
    "    \n",
    "        return wounds[attackerStrength - 1][defenderResistance - 1] <= dice\n",
    "    \n",
    "    def receiveAttack(self, frm, isRanged):\n",
    "        hitAndWounds = self.willAttackLand(frm, isRanged) and self.willAttackCauseWounds(frm);\n",
    "        if hitAndWounds:\n",
    "            self.wounds += 1\n",
    "\n",
    "        if self.wounds == self.attributes['wounds']:\n",
    "            self.status = DEAD\n",
    "            if self.verbose: print \"HEY! I'M DEAD!\", self.name\n",
    "            \n",
    "\n",
    "    def attackTarget(self, to):\n",
    "        # (Time.time - _lastAttack >= (1f / info.unitAttributes.attackRate)))\n",
    "        self.target = to\n",
    "        \n",
    "        each_attack = 1.0 / self.attributes['attackRate']\n",
    "        while time.time() - self.lastAttack >= each_attack:\n",
    "            if self.verbose: print \".\",\n",
    "            to.receiveAttack(self, False)            \n",
    "            self.lastAttack += each_attack\n",
    "            "
   ]
  },
  {
   "cell_type": "markdown",
   "metadata": {},
   "source": [
    "# Test environment"
   ]
  },
  {
   "cell_type": "code",
   "execution_count": 2,
   "metadata": {
    "collapsed": false
   },
   "outputs": [],
   "source": [
    "import numpy as np\n",
    "\n",
    "def wrap_tests(MAX_ITER, generator, verbose=False):\n",
    "    results = None\n",
    "\n",
    "    for i in range(1, MAX_ITER + 1):\n",
    "        stopCriteria, attacks = generator(i)\n",
    "        \n",
    "        current_results = test(stopCriteria, attacks, verbose = verbose or (i == MAX_ITER))\n",
    "        \n",
    "        if results is None:\n",
    "            results = current_results\n",
    "        else:\n",
    "            results += current_results\n",
    "    \n",
    "    return results\n",
    "\n",
    "def test(stopCriteria, attacks, verbose=True):\n",
    "    results = np.zeros(len(stopCriteria))\n",
    "    \n",
    "    while True:\n",
    "        stop = False\n",
    "        \n",
    "        for k,criteria in enumerate(stopCriteria):\n",
    "            dead = 0\n",
    "            for u in criteria:\n",
    "                dead += int(u.status == DEAD)\n",
    "                \n",
    "            stop = (dead == len(criteria))\n",
    "            results[k] += stop\n",
    "            \n",
    "            if stop:\n",
    "                break\n",
    "        \n",
    "        if stop:\n",
    "            break\n",
    "        \n",
    "        for group in attacks:\n",
    "            attacker = group[0]\n",
    "            \n",
    "            if attacker.status == DEAD:\n",
    "                continue\n",
    "            \n",
    "            for attacked in group[1:]:\n",
    "                if not attacked.status == DEAD:\n",
    "                    attacker.attackTarget(attacked)\n",
    "                    break\n",
    "\n",
    "    if verbose: \n",
    "        printed = set()\n",
    "\n",
    "        for group in stopCriteria:\n",
    "            for unit in group:\n",
    "                if unit not in printed:\n",
    "                    print \"%s is %s, %d / %d\" % (unit.name, \"DEAD\" if unit.status == DEAD else \"ALIVE\", unit.wounds, unit.attributes['wounds'])\n",
    "                    printed.add(unit)\n",
    "            print\n",
    "            \n",
    "    return 1 - results"
   ]
  },
  {
   "cell_type": "markdown",
   "metadata": {},
   "source": [
    "# Attributes\n",
    "\n",
    "(from https://docs.google.com/spreadsheets/d/1KRIWxW8MWzUJ2O0SMKUmG0IAIbXcGY6BqZRPjm98zCA/edit#gid=0)"
   ]
  },
  {
   "cell_type": "code",
   "execution_count": 36,
   "metadata": {
    "collapsed": false
   },
   "outputs": [],
   "source": [
    "lightAttrs = {\n",
    "        \"weaponAbility\": 3,\n",
    "        \"projectileAbility\": 0,\n",
    "        \"strength\": 3,\n",
    "        \"resistance\": 4,\n",
    "        \"wounds\": 15,\n",
    "\n",
    "        \"attackRate\": 2,\n",
    "        \"movementRate\": 2.4,\n",
    "        \"sightRange\": 40,\n",
    "        \"creationTime\": 25,\n",
    "\n",
    "        \"foodConsumption\": 0.3,\n",
    "    }\n",
    "\n",
    "humanLightAttrs = {\n",
    "        \"weaponAbility\": 2,\n",
    "        \"projectileAbility\": 0,\n",
    "        \"strength\": 4,\n",
    "        \"resistance\": 4,\n",
    "        \"wounds\": 15,\n",
    "\n",
    "        \"attackRate\": 1.4,\n",
    "        \"movementRate\": 2.4,\n",
    "        \"sightRange\": 40,\n",
    "        \"creationTime\": 25,\n",
    "\n",
    "        \"foodConsumption\": 0.3,\n",
    "    }\n",
    "\n",
    "heavyAttrs = {\n",
    "        \"weaponAbility\": 5,\n",
    "        \"projectileAbility\": 0,\n",
    "        \"strength\": 5,\n",
    "        \"resistance\": 5,\n",
    "        \"wounds\": 25,\n",
    "\n",
    "        \"attackRate\": 1.7,\n",
    "        \"movementRate\": 1.8,\n",
    "        \"sightRange\": 40,\n",
    "        \"creationTime\": 50,\n",
    "\n",
    "        \"foodConsumption\": 0.8,\n",
    "    }\n",
    "\n",
    "humanHeavyAttrs = {\n",
    "        \"weaponAbility\": 4,\n",
    "        \"projectileAbility\": 0,\n",
    "        \"strength\": 6,\n",
    "        \"resistance\": 5,\n",
    "        \"wounds\": 27,\n",
    "\n",
    "        \"attackRate\": 1.564,\n",
    "        \"movementRate\": 1.8,\n",
    "        \"sightRange\": 40,\n",
    "        \"creationTime\": 50,\n",
    "\n",
    "        \"foodConsumption\": 0.8,\n",
    "    }\n",
    "\n",
    "knightAttrs = {\n",
    "        \"weaponAbility\": 5,\n",
    "        \"projectileAbility\": 4,\n",
    "        \"strength\": 4,\n",
    "        \"resistance\": 4,\n",
    "        \"wounds\": 15,\n",
    "\n",
    "        \"attackRate\": 3,\n",
    "        \"movementRate\": 4,\n",
    "        \"sightRange\": 40,\n",
    "        \"creationTime\": 8\n",
    "    }\n",
    "\n",
    "heroAttrs =  {\n",
    "        \"weaponAbility\": 7,\n",
    "        \"projectileAbility\": 0,\n",
    "        \"strength\": 9,\n",
    "        \"resistance\": 7,\n",
    "        \"wounds\": 30,\n",
    "\n",
    "        \"attackRate\": 3,\n",
    "        \"movementRate\": 2.4,\n",
    "        \"sightRange\": 50,\n",
    "        \"creationTime\": 30\n",
    "    }\n",
    "\n",
    "entAttrs = {\n",
    "        \"weaponAbility\": 6,\n",
    "        \"projectileAbility\": 0,\n",
    "        \"strength\": 5,\n",
    "        \"resistance\": 8,\n",
    "        \"wounds\": 70,\n",
    "\n",
    "        \"attackRate\": 1,\n",
    "        \"movementRate\": 3,\n",
    "        \"sightRange\": 12,\n",
    "        \"creationTime\": 12\n",
    "    }\n",
    "\n",
    "gliphoAttrs = {\n",
    "        \"weaponAbility\": 4,\n",
    "        \"projectileAbility\": 0,\n",
    "        \"strength\": 4,\n",
    "        \"resistance\": 5,\n",
    "        \"wounds\": 30,\n",
    "\n",
    "        \"attackRate\": 3.5,\n",
    "        \"movementRate\": 3,\n",
    "        \"sightRange\": 12,\n",
    "        \"creationTime\": 12\n",
    "    }"
   ]
  },
  {
   "cell_type": "code",
   "execution_count": 39,
   "metadata": {
    "collapsed": false
   },
   "outputs": [
    {
     "name": "stdout",
     "output_type": "stream",
     "text": [
      ". . . . . . . . . . . . . . . . . . . . . . . . . . . . . . . . . . . . . . . . . . . . . . . . . . . . . . . . . . . . . . . . . . . . . . . . . . . . HEY! I'M DEAD! light\n",
      ". HEY! I'M DEAD! light\n",
      "light is DEAD, 15 / 15\n",
      "\n",
      "heavy is ALIVE, 3 / 30\n",
      "\n"
     ]
    },
    {
     "data": {
      "text/plain": [
       "array([   0.,  100.])"
      ]
     },
     "execution_count": 39,
     "metadata": {},
     "output_type": "execute_result"
    }
   ],
   "source": [
    "MAX_ITER = 100\n",
    "def generator(i):\n",
    "    light1 = Unit(heroAttrs, 'light', verbose = (i == MAX_ITER))\n",
    "    #light2 = Unit(lightAttrs, 'light', verbose = (i == MAX_ITER))\n",
    "    #light3 = Unit(lightAttrs, 'light', verbose = (i == MAX_ITER))\n",
    "    gliph = Unit(gliphoAttrs, 'heavy', verbose = (i == MAX_ITER))\n",
    "\n",
    "    #stopCriteria = ((light1, light2, light3), (heavy1,))\n",
    "    #attacks = ((light1, heavy1), (light2, heavy1), (light3, heavy1), (heavy1, light1, light2, light3))\n",
    "    \n",
    "    stopCriteria = ((light1,), (gliph,))\n",
    "    attacks = ((light1, gliph), (gliph, light1,))\n",
    "\n",
    "    return stopCriteria, attacks\n",
    "\n",
    "wrap_tests(MAX_ITER, generator)"
   ]
  },
  {
   "cell_type": "markdown",
   "metadata": {},
   "source": [
    "# Test: 2 lights vs 1 heavy"
   ]
  },
  {
   "cell_type": "code",
   "execution_count": 22,
   "metadata": {
    "collapsed": false
   },
   "outputs": [
    {
     "name": "stdout",
     "output_type": "stream",
     "text": [
      ". . . . . . . . . . . . . . . . . . . . . . . . . . . . . . . . . . . . . . . . . . . . . . . . . . . . . . . . . . . . . . . . . . . . . . . . . . . . . . . . . . . . . . . . . . . . . . . . . . . . . . . . . . . . . . . . . . . . . . . . . . . . . . . . . . . . . . . . . . . . . . . . . HEY! I'M DEAD! light\n",
      ". . . . . . . . . . . . . . . . . . . . . . . . . . . . . . . . . . . . . . . . . . . . . . . . . . . . . . . . HEY! I'M DEAD! light\n",
      "light is DEAD, 16 / 15\n",
      "light is DEAD, 15 / 15\n",
      "\n",
      "heavy is ALIVE, 11 / 25\n",
      "\n"
     ]
    },
    {
     "data": {
      "text/plain": [
       "array([   0.,  100.])"
      ]
     },
     "execution_count": 22,
     "metadata": {},
     "output_type": "execute_result"
    }
   ],
   "source": [
    "MAX_ITER = 100\n",
    "def generator(i):\n",
    "    light1 = Unit(lightAttrs, 'light', verbose = (i == MAX_ITER))\n",
    "    light2 = Unit(lightAttrs, 'light', verbose = (i == MAX_ITER))\n",
    "    #light3 = Unit(lightAttrs, 'light', verbose = (i == MAX_ITER))\n",
    "    heavy1 = Unit(heavyAttrs, 'heavy', verbose = (i == MAX_ITER))\n",
    "\n",
    "    #stopCriteria = ((light1, light2, light3), (heavy1,))\n",
    "    #attacks = ((light1, heavy1), (light2, heavy1), (light3, heavy1), (heavy1, light1, light2, light3))\n",
    "    \n",
    "    stopCriteria = ((light1, light2), (heavy1,))\n",
    "    attacks = ((light1, heavy1), (light2, heavy1), (heavy1, light1, light2))\n",
    "\n",
    "    return stopCriteria, attacks\n",
    "\n",
    "wrap_tests(MAX_ITER, generator)"
   ]
  },
  {
   "cell_type": "markdown",
   "metadata": {},
   "source": [
    "# Test: 3 lights vs 1 heavy"
   ]
  },
  {
   "cell_type": "code",
   "execution_count": 23,
   "metadata": {
    "collapsed": false
   },
   "outputs": [
    {
     "name": "stdout",
     "output_type": "stream",
     "text": [
      ". . . . . . . . . . . . . . . . . . . . . . . . . . . . . . . . . . . . . . . . . . . . . . . . . . . . . . . . . . . . . . . . . . . . . . . . . . . . . . . . . . . . . . . . . . . . . . . . . . . . . . . . . . . . . . . . . . . . . . . . . . . . . . . . . . . . . . . . . . . . . . . . . . . . . . . . . . HEY! I'M DEAD! light\n",
      ". . . . . . . . . . . . . . . . . . . . . . . . . . . . . . . . . . . . . . . . . . . . . . . . . . . . . . . . . . . . . . . . . . . . . . . . . . . . . . . . . . . . . . . . . . . . HEY! I'M DEAD! light\n",
      ". . . . . . . . . . . . . . . . . . . . . . . . . . . . . . . . . . . . . . . . . . . . . . . . . . . . . . . . . . . . . . . . . . . . . . . . . . . . HEY! I'M DEAD! light\n",
      "light is DEAD, 15 / 15\n",
      "light is DEAD, 15 / 15\n",
      "light is DEAD, 15 / 15\n",
      "\n",
      "heavy is ALIVE, 16 / 25\n",
      "\n"
     ]
    },
    {
     "data": {
      "text/plain": [
       "array([ 19.,  81.])"
      ]
     },
     "execution_count": 23,
     "metadata": {},
     "output_type": "execute_result"
    }
   ],
   "source": [
    "MAX_ITER = 100\n",
    "def generator(i):\n",
    "    light1 = Unit(lightAttrs, 'light', verbose = (i == MAX_ITER))\n",
    "    light2 = Unit(lightAttrs, 'light', verbose = (i == MAX_ITER))\n",
    "    light3 = Unit(lightAttrs, 'light', verbose = (i == MAX_ITER))\n",
    "    heavy1 = Unit(heavyAttrs, 'heavy', verbose = (i == MAX_ITER))\n",
    "\n",
    "    stopCriteria = ((light1, light2, light3), (heavy1,))\n",
    "    attacks = ((light1, heavy1), (light2, heavy1), (light3, heavy1), (heavy1, light1, light2, light3))\n",
    "    \n",
    "    return stopCriteria, attacks\n",
    "\n",
    "wrap_tests(MAX_ITER, generator)"
   ]
  },
  {
   "cell_type": "markdown",
   "metadata": {},
   "source": [
    "# Test: 2 lights vs 1 knight (cavalry)"
   ]
  },
  {
   "cell_type": "code",
   "execution_count": 24,
   "metadata": {
    "collapsed": false
   },
   "outputs": [
    {
     "name": "stdout",
     "output_type": "stream",
     "text": [
      ". . . . . . . . . . . . . . . . . . . . . . . . . . . . . . . . . . . . . . . . . . . . . . . . . . . . . . . . . . . . . . . . . . . . . . . . . . . . . . . . . . . . . . . . . HEY! I'M DEAD! light\n",
      ". . . . . . . . . . . . . . . . . . . . . . . . . . . . . . . . . . . . . . . . . . . . . . . . . . . . . . . . . . . . . . . . . . . . . . . . . . . . . . . . . HEY! I'M DEAD! light\n",
      ". light is DEAD, 16 / 15\n",
      "light is DEAD, 16 / 15\n",
      "\n",
      "heavy is ALIVE, 12 / 15\n",
      "\n"
     ]
    },
    {
     "data": {
      "text/plain": [
       "array([ 53.,  47.])"
      ]
     },
     "execution_count": 24,
     "metadata": {},
     "output_type": "execute_result"
    }
   ],
   "source": [
    "MAX_ITER = 100\n",
    "def generator(i):\n",
    "    light1 = Unit(lightAttrs, 'light', verbose = (i == MAX_ITER))\n",
    "    light2 = Unit(lightAttrs, 'light', verbose = (i == MAX_ITER))\n",
    "    knight1 = Unit(knightAttrs, 'heavy', verbose = (i == MAX_ITER))\n",
    "    \n",
    "    stopCriteria = ((light1, light2), (knight1,))\n",
    "    attacks = ((light1, knight1), (light2, knight1), (knight1, light1, light2))\n",
    "\n",
    "    return stopCriteria, attacks\n",
    "\n",
    "wrap_tests(MAX_ITER, generator)"
   ]
  },
  {
   "cell_type": "markdown",
   "metadata": {},
   "source": [
    "# Test: 1 lights vs 1 knight"
   ]
  },
  {
   "cell_type": "code",
   "execution_count": 152,
   "metadata": {
    "collapsed": false
   },
   "outputs": [
    {
     "name": "stdout",
     "output_type": "stream",
     "text": [
      ". . . . . . . . . . . . . . . . . . . . . . . . . . . . . . . . . . . . . . . . . . . . . . . . . . . . . . . . . . . . . . . . . . . . . . . . . . . . . . . . . . . . . . . . . . . . . . . . . . . . . . . . . . . . . . . . HEY! I'M DEAD! light\n",
      ". HEY! I'M DEAD! light\n",
      ". HEY! I'M DEAD! light\n",
      "light is DEAD, 15 / 15\n",
      "\n",
      "knight is ALIVE, 14 / 15\n",
      "\n"
     ]
    },
    {
     "data": {
      "text/plain": [
       "array([   0.,  100.])"
      ]
     },
     "execution_count": 152,
     "metadata": {},
     "output_type": "execute_result"
    }
   ],
   "source": [
    "MAX_ITER = 100\n",
    "def generator(i):\n",
    "    light1 = Unit(lightAttrs, 'light', verbose = (i == MAX_ITER))\n",
    "    knight1 = Unit(knightAttrs, 'knight', verbose = (i == MAX_ITER))\n",
    "    \n",
    "    stopCriteria = ((light1,), (knight1,))\n",
    "    attacks = ((light1, knight1), (knight1, light1))\n",
    "\n",
    "    return stopCriteria, attacks\n",
    "\n",
    "wrap_tests(MAX_ITER, generator)"
   ]
  },
  {
   "cell_type": "markdown",
   "metadata": {},
   "source": [
    "# Test: 1 light vs 1 light Human"
   ]
  },
  {
   "cell_type": "code",
   "execution_count": 33,
   "metadata": {
    "collapsed": false
   },
   "outputs": [
    {
     "name": "stdout",
     "output_type": "stream",
     "text": [
      ". . . . . . . . . . . . . . . . . . . . . . . . . . . . . . . . . . . . . . . . . . . . . . . . . . . . . . . . . . . . . . . . . . . . . . . . . . . . . . . . . . . . . . . . . . . . . . . . . . . . HEY! I'M DEAD! light_human\n",
      "light is ALIVE, 8 / 15\n",
      "\n",
      "light_human is DEAD, 15 / 15\n",
      "\n"
     ]
    },
    {
     "data": {
      "text/plain": [
       "array([ 76.,  24.])"
      ]
     },
     "execution_count": 33,
     "metadata": {},
     "output_type": "execute_result"
    }
   ],
   "source": [
    "MAX_ITER = 100\n",
    "def generator(i):\n",
    "    light1 = Unit(lightAttrs, 'light', verbose = (i == MAX_ITER))\n",
    "    lightH = Unit(humanLightAttrs, 'light_human', verbose = (i == MAX_ITER))\n",
    "    \n",
    "    stopCriteria = ((light1,), (lightH,))\n",
    "    attacks = ((light1, lightH), (lightH, light1))\n",
    "\n",
    "    return stopCriteria, attacks\n",
    "\n",
    "wrap_tests(MAX_ITER, generator)"
   ]
  },
  {
   "cell_type": "markdown",
   "metadata": {},
   "source": [
    "# Test: 1 heavy vs 1 heavy Human"
   ]
  },
  {
   "cell_type": "code",
   "execution_count": 7,
   "metadata": {
    "collapsed": false
   },
   "outputs": [
    {
     "name": "stdout",
     "output_type": "stream",
     "text": [
      ". . . . . . . . . . . . . . . . . . . . . . . . . . . . . . . . . . . . . . . . . . . . . . . . . . . . . . . . . . . . . . . . . . . . . . . . . . . . . . . . . . . . . . . . . . . . . . . . . . . . . . . . . . . . . . . . . . . . . . . . . . . . . . . . . . . . . . . . . . . . . . . . . . . . HEY! I'M DEAD! heavy_human\n",
      ". HEY! I'M DEAD! heavy_human\n",
      "heavy is ALIVE, 20 / 25\n",
      "\n",
      "heavy_human is DEAD, 27 / 27\n",
      "\n"
     ]
    },
    {
     "data": {
      "text/plain": [
       "array([  97.,  103.])"
      ]
     },
     "execution_count": 7,
     "metadata": {},
     "output_type": "execute_result"
    }
   ],
   "source": [
    "MAX_ITER = 200\n",
    "def generator(i):\n",
    "    heavy1 = Unit(heavyAttrs, 'heavy', verbose = (i == MAX_ITER))\n",
    "    heavyH = Unit(humanHeavyAttrs, 'heavy_human', verbose = (i == MAX_ITER))\n",
    "    \n",
    "    stopCriteria = ((heavy1,), (heavyH,))\n",
    "    attacks = ((heavy1, heavyH), (heavyH, heavy1))\n",
    "\n",
    "    return stopCriteria, attacks\n",
    "\n",
    "wrap_tests(MAX_ITER, generator)"
   ]
  },
  {
   "cell_type": "markdown",
   "metadata": {},
   "source": [
    "# Test: 1 heavy vs 1 knight"
   ]
  },
  {
   "cell_type": "code",
   "execution_count": 178,
   "metadata": {
    "collapsed": false
   },
   "outputs": [
    {
     "name": "stdout",
     "output_type": "stream",
     "text": [
      ". . . . . . . . . . . . . . . . . . . . . . . . . . . . . . . . . . . . . . . . . . . . . . . . . . . . . . . . . . . . . . . . . . . . . . . . . . . . . . . . . . . . . . . . . . . . . . . . . . . . . . . . . . . . . . . . . HEY! I'M DEAD! knight\n",
      ". HEY! I'M DEAD! knight\n",
      "heavy is ALIVE, 15 / 25\n",
      "\n",
      "knight is DEAD, 15 / 15\n",
      "\n"
     ]
    },
    {
     "data": {
      "text/plain": [
       "array([ 100.,    0.])"
      ]
     },
     "execution_count": 178,
     "metadata": {},
     "output_type": "execute_result"
    }
   ],
   "source": [
    "MAX_ITER = 100\n",
    "def generator(i):\n",
    "    heavy1 = Unit(heavyAttrs, 'heavy', verbose = (i == MAX_ITER))\n",
    "    knight1 = Unit(knightAttrs, 'knight', verbose = (i == MAX_ITER))\n",
    "    \n",
    "    stopCriteria = ((heavy1,), (knight1,))\n",
    "    attacks = ((heavy1, knight1), (knight1, heavy1))\n",
    "\n",
    "    return stopCriteria, attacks\n",
    "\n",
    "wrap_tests(MAX_ITER, generator)"
   ]
  },
  {
   "cell_type": "markdown",
   "metadata": {},
   "source": [
    "# Test: 1 heavy vs 3 human lights"
   ]
  },
  {
   "cell_type": "code",
   "execution_count": 31,
   "metadata": {
    "collapsed": false
   },
   "outputs": [
    {
     "name": "stdout",
     "output_type": "stream",
     "text": [
      ". . . . . . . . . . . . . . . . . . . . . . . . . . . . . . . . . . . . . . . . . . . . . . . . . . . . . . . . . . . . . . . . . . . . . . . . . . . . . . . . . . . . . . . . . . . . . . . . . . . . . . . . . . . . . . . . . . . . . . . . . . HEY! I'M DEAD! light\n",
      ". . . . . . . . . . . . . . . . . . . . . . . . . . . . . . . . . . . . . . . . . . . . . . . . . . . . . . . . . . . . . . . . . . . HEY! I'M DEAD! light\n",
      ". . . . . . . . . . . . . . . . . . . . . . . . . . . . . . . . . . . . . . . . . . . . . . . . . . . . . HEY! I'M DEAD! light\n",
      ". light is DEAD, 15 / 15\n",
      "light is DEAD, 16 / 15\n",
      "light is DEAD, 16 / 15\n",
      "\n",
      "heavy is ALIVE, 16 / 25\n",
      "\n"
     ]
    },
    {
     "data": {
      "text/plain": [
       "array([  8.,  92.])"
      ]
     },
     "execution_count": 31,
     "metadata": {},
     "output_type": "execute_result"
    }
   ],
   "source": [
    "MAX_ITER = 100\n",
    "def generator(i):\n",
    "    light1 = Unit(humanLightAttrs, 'light', verbose = (i == MAX_ITER))\n",
    "    light2 = Unit(humanLightAttrs, 'light', verbose = (i == MAX_ITER))\n",
    "    light3 = Unit(humanLightAttrs, 'light', verbose = (i == MAX_ITER))\n",
    "    heavy1 = Unit(heavyAttrs, 'heavy', verbose = (i == MAX_ITER))\n",
    "\n",
    "    stopCriteria = ((light1, light2, light3), (heavy1,))\n",
    "    attacks = ((light1, heavy1), (light2, heavy1), (light3, heavy1), (heavy1, light1, light2, light3))\n",
    "    \n",
    "    return stopCriteria, attacks\n",
    "\n",
    "wrap_tests(MAX_ITER, generator)"
   ]
  },
  {
   "cell_type": "markdown",
   "metadata": {},
   "source": [
    "# Test: 4 heavies vs 1 hero"
   ]
  },
  {
   "cell_type": "code",
   "execution_count": 215,
   "metadata": {
    "collapsed": false
   },
   "outputs": [
    {
     "name": "stdout",
     "output_type": "stream",
     "text": [
      ". . . . . . . . . . . . . . . . . . . . . . . . . . . . . . . . . . . . . . . . . . . . . . . . . . . . . . . . . . . . . . . . . . . . . . . . . . . . . . . . . . . . . . . . . . . . . . . . . . . . . . . . . . . . . . . . . . . . . . . . . . . . . . . . . . . . . . . . . . . . . . . . . . . . . . . . . . . . . . . . . . HEY! I'M DEAD! heavy\n",
      ". . . . . . . . . . . . . . . . . . . . . . . . . . . . . . . . . . . . . . . . . . . . . . . . . . . . . . . . . . . . . . . . . . . . . . . . . . . . . . . . . . . . . . . . . . . . . . . . . . . . . . . . . . . . . . . . . . . . . . . . . . . . HEY! I'M DEAD! heavy\n",
      ". . . . . . . . . . . . . . . . . . . . . . . . . . . . . . . . . . . . . . . . . . . . . . . . . . . . . . . . . . . . . . . . . . . . . . . . . . . . . . . . . . . . . . . . . . . . . . . . . . . . . . . . . . . . . . . . . . HEY! I'M DEAD! heavy\n",
      ". HEY! I'M DEAD! heavy\n",
      ". HEY! I'M DEAD! heavy\n",
      ". . . . . . . . . . . . . . . . . . . . . . . . . . . . . . . . . . . . . . . . . . . . . . . . . . . . . . . . . . . . . . . . . . . . . . . . . . . . . . . . . . HEY! I'M DEAD! heavy\n",
      ". . heavy is DEAD, 26 / 25\n",
      "heavy is DEAD, 25 / 25\n",
      "heavy is DEAD, 25 / 25\n",
      "heavy is DEAD, 26 / 25\n",
      "\n",
      "hero is ALIVE, 27 / 30\n",
      "\n"
     ]
    },
    {
     "data": {
      "text/plain": [
       "array([  4.,  96.])"
      ]
     },
     "execution_count": 215,
     "metadata": {},
     "output_type": "execute_result"
    }
   ],
   "source": [
    "MAX_ITER = 100\n",
    "def generator(i):\n",
    "    heavy1 = Unit(heavyAttrs, 'heavy', verbose = (i == MAX_ITER))\n",
    "    heavy2 = Unit(heavyAttrs, 'heavy', verbose = (i == MAX_ITER))\n",
    "    heavy3 = Unit(heavyAttrs, 'heavy', verbose = (i == MAX_ITER))\n",
    "    heavy4 = Unit(heavyAttrs, 'heavy', verbose = (i == MAX_ITER))\n",
    "    hero1 = Unit(heroAttrs, 'hero', verbose = (i == MAX_ITER))\n",
    "\n",
    "    #stopCriteria = ((light1, light2, light3), (heavy1,))\n",
    "    #attacks = ((light1, heavy1), (light2, heavy1), (light3, heavy1), (heavy1, light1, light2, light3))\n",
    "    \n",
    "    stopCriteria = ((heavy1, heavy2, heavy3, heavy4), (hero1,))\n",
    "    attacks = ((heavy1, hero1), (heavy2, hero1), (heavy3, hero1), (heavy4, hero1), (hero1, heavy1, heavy2, heavy3, heavy4))\n",
    "\n",
    "    return stopCriteria, attacks\n",
    "\n",
    "wrap_tests(MAX_ITER, generator)"
   ]
  },
  {
   "cell_type": "markdown",
   "metadata": {},
   "source": [
    "# Test: Ent + sth vs a lot of sth!"
   ]
  },
  {
   "cell_type": "code",
   "execution_count": 185,
   "metadata": {
    "collapsed": false
   },
   "outputs": [
    {
     "name": "stdout",
     "output_type": "stream",
     "text": [
      ". . . . . . . . . . . . . . . . . . . . . . . . . . . . . . . . . . . . . . . . . . . . . . . . . . . . . . . . . . . . . . . . . . . . . . . . . . . . . . . . . . . . . . . . . . . . . . . . . . . . . . . . . . . . . . . . . . . . . . . . . . . . . . . . . . . . . . . . . . . . . . . . . . . . . . . . . . . . . . . . . . . . . . . . . . . . . . . . . . . . . . . . . . . . . . . . . . . . . . . . . . . . . . . . . . . . . . . . . . . . . . . . . . . . . . . . . . . . . . . . . . . . . . . . . . . . . . . . . . . . . . . . HEY! I'M DEAD! heavy\n",
      ". . . . . . . . . . . . . . . . . . . . . . . . . . . . . . . . . . . . . . . . . . . . . . . . . . . . . . . . . . . . . . . . . . . . . . . . . . . . . . . . . . . . . . . . . . . . . . . . . . . . . . . . . . . . . . . . . . . . . . . . . . . . . . . . . . . . . . . . . . . . . . . . . . . . . . . . . . . . . . . . . . . . . . . . . . . . . . . . . . . . . . . . . . . . . . . . . . . . . . . . . . . . . . . . . . . . . . . . . . . . . . . . . . . . . . . . . . . . . . . . . . . . . HEY! I'M DEAD! heavy\n",
      ". . . . . . . . . . . . . . . . . . . . . . . . . . . . . . . . . . . . . . . . . . . . . . . . . . . . . . . . . . . . . . . . . . . . . . . . . . . . . . . . . . . . . . . . . . . . . . . . . . . . . . . . . . . . . . . . . . . . . . . . . . . . . . . . . . . . . . . . . . . HEY! I'M DEAD! heavy\n",
      "heavy is DEAD, 25 / 25\n",
      "heavy is DEAD, 25 / 25\n",
      "heavy is DEAD, 25 / 25\n",
      "\n",
      "ent is ALIVE, 26 / 70\n",
      "heavy is ALIVE, 0 / 25\n",
      "\n"
     ]
    },
    {
     "data": {
      "text/plain": [
       "array([   0.,  100.])"
      ]
     },
     "execution_count": 185,
     "metadata": {},
     "output_type": "execute_result"
    }
   ],
   "source": [
    "MAX_ITER = 100\n",
    "def generator(i):\n",
    "    heavy1 = Unit(heavyAttrs, 'heavy', verbose = (i == MAX_ITER))\n",
    "    heavy2 = Unit(heavyAttrs, 'heavy', verbose = (i == MAX_ITER))\n",
    "    heavy3 = Unit(heavyAttrs, 'heavy', verbose = (i == MAX_ITER))\n",
    "    heavy4 = Unit(heavyAttrs, 'heavy', verbose = (i == MAX_ITER))\n",
    "    \n",
    "    ent1 = Unit(entAttrs, 'ent', verbose = (i == MAX_ITER))\n",
    "    heavy_e1 = Unit(heavyAttrs, 'heavy', verbose = (i == MAX_ITER))\n",
    "    \n",
    "\n",
    "    stopCriteria = ((heavy1, heavy2, heavy3), (ent1,heavy_e1))\n",
    "    attacks = ((heavy1, ent1,heavy_e1), (heavy2, ent1,heavy_e1), (heavy3, ent1,heavy_e1), (ent1, heavy1, heavy2, heavy3), (heavy_e1, heavy1, heavy2, heavy3))\n",
    "    \n",
    "    #stopCriteria = ((heavy1, heavy2, heavy3, heavy4), (hero1,))\n",
    "    #attacks = ((heavy1, hero1), (heavy2, hero1), (heavy3, hero1), (heavy4, hero1), (hero1, heavy1, heavy2, heavy3, heavy4))\n",
    "\n",
    "    return stopCriteria, attacks\n",
    "\n",
    "wrap_tests(MAX_ITER, generator)"
   ]
  },
  {
   "cell_type": "code",
   "execution_count": 187,
   "metadata": {
    "collapsed": false
   },
   "outputs": [
    {
     "name": "stdout",
     "output_type": "stream",
     "text": [
      ". . . . . . . . . . . . . . . . . . . . . . . . . . . . . . . . . . . . . . . . . . . . . . . . . . . . . . . . . . . . . . . . . . . . . . . . . . . . . . . . . . . . . . . . . . . . . . . . . . . . . . . . . . . . . . . . . . . . . . . . . . . . . . . . . . . . . . . . . . . . . . . . . . . HEY! I'M DEAD! ent\n",
      ". hero is ALIVE, 7 / 30\n",
      "\n",
      "ent is DEAD, 71 / 70\n",
      "\n"
     ]
    },
    {
     "data": {
      "text/plain": [
       "array([ 100.,    0.])"
      ]
     },
     "execution_count": 187,
     "metadata": {},
     "output_type": "execute_result"
    }
   ],
   "source": [
    "MAX_ITER = 100\n",
    "def generator(i):\n",
    "    hero = Unit(heroAttrs, 'hero', verbose = (i == MAX_ITER))    \n",
    "    ent1 = Unit(entAttrs, 'ent', verbose = (i == MAX_ITER))\n",
    "    \n",
    "    stopCriteria = ((hero,), (ent1,))\n",
    "    attacks = ((hero, ent1), (ent1, hero))\n",
    "    \n",
    "    #stopCriteria = ((heavy1, heavy2, heavy3, heavy4), (hero1,))\n",
    "    #attacks = ((heavy1, hero1), (heavy2, hero1), (heavy3, hero1), (heavy4, hero1), (hero1, heavy1, heavy2, heavy3, heavy4))\n",
    "\n",
    "    return stopCriteria, attacks\n",
    "\n",
    "wrap_tests(MAX_ITER, generator)"
   ]
  },
  {
   "cell_type": "code",
   "execution_count": null,
   "metadata": {
    "collapsed": true
   },
   "outputs": [],
   "source": []
  }
 ],
 "metadata": {
  "kernelspec": {
   "display_name": "Python 2",
   "language": "python",
   "name": "python2"
  },
  "language_info": {
   "codemirror_mode": {
    "name": "ipython",
    "version": 2
   },
   "file_extension": ".py",
   "mimetype": "text/x-python",
   "name": "python",
   "nbconvert_exporter": "python",
   "pygments_lexer": "ipython2",
   "version": "2.7.10"
  }
 },
 "nbformat": 4,
 "nbformat_minor": 0
}
